{
  "nbformat": 4,
  "nbformat_minor": 0,
  "metadata": {
    "colab": {
      "name": "assignment 7.py",
      "provenance": [],
      "authorship_tag": "ABX9TyMvovmv9Z8kperP37sKRuSJ",
      "include_colab_link": true
    },
    "kernelspec": {
      "name": "python3",
      "display_name": "Python 3"
    }
  },
  "cells": [
    {
      "cell_type": "markdown",
      "metadata": {
        "id": "view-in-github",
        "colab_type": "text"
      },
      "source": [
        "<a href=\"https://colab.research.google.com/github/vamsi2805/ASSIGNMENT-7/blob/master/assignment_7_py.ipynb\" target=\"_parent\"><img src=\"https://colab.research.google.com/assets/colab-badge.svg\" alt=\"Open In Colab\"/></a>"
      ]
    },
    {
      "cell_type": "markdown",
      "metadata": {
        "id": "2t1Ic-VG0-Zu",
        "colab_type": "text"
      },
      "source": [
        "1. write a program to find the square root."
      ]
    },
    {
      "cell_type": "code",
      "metadata": {
        "id": "q0k6kxav1D4U",
        "colab_type": "code",
        "colab": {
          "base_uri": "https://localhost:8080/",
          "height": 34
        },
        "outputId": "c99ed78c-9060-4651-e336-f79ba6b19bc3"
      },
      "source": [
        "import math\n",
        "def sq_root(num):\n",
        "    sq=math.sqrt(num)\n",
        "    print(\"The square root of\",num,\"is:\",sq)\n",
        "sq_root(100)"
      ],
      "execution_count": 1,
      "outputs": [
        {
          "output_type": "stream",
          "text": [
            "The square root of 100 is: 10.0\n"
          ],
          "name": "stdout"
        }
      ]
    },
    {
      "cell_type": "markdown",
      "metadata": {
        "id": "TDBqQqBV1Lpp",
        "colab_type": "text"
      },
      "source": [
        "2.Write program to check if a number is positive, negative or zero."
      ]
    },
    {
      "cell_type": "code",
      "metadata": {
        "id": "YlkPsDD51PlA",
        "colab_type": "code",
        "colab": {
          "base_uri": "https://localhost:8080/",
          "height": 34
        },
        "outputId": "93c760d3-5f6b-432e-9126-c48f0265ffef"
      },
      "source": [
        "def check_num(num):\n",
        "    if num>0:\n",
        "        print(num,\"is positive.\")\n",
        "    elif num<0:\n",
        "        print(num,\"is negative.\")\n",
        "    else:\n",
        "        print(num,\"is zero.\")\n",
        "check_num(85)"
      ],
      "execution_count": 2,
      "outputs": [
        {
          "output_type": "stream",
          "text": [
            "85 is positive.\n"
          ],
          "name": "stdout"
        }
      ]
    },
    {
      "cell_type": "markdown",
      "metadata": {
        "id": "HcSD3zil1WoR",
        "colab_type": "text"
      },
      "source": [
        "3.writea  program to checck if the given year is a leap year or not."
      ]
    },
    {
      "cell_type": "code",
      "metadata": {
        "id": "yUgUjbnh1a-5",
        "colab_type": "code",
        "colab": {
          "base_uri": "https://localhost:8080/",
          "height": 34
        },
        "outputId": "fc258a25-6eb4-4fc8-b2b4-d01f916c2abb"
      },
      "source": [
        "def leap_year(year):\n",
        "    if year%4==0:\n",
        "        if year%100==0:\n",
        "            if year%400==0:\n",
        "                print(year,\"is a leap year.\")\n",
        "            else:\n",
        "                print(year,\"is not a leap year.\")\n",
        "        else:\n",
        "            print(year,\"is a leap year.\")\n",
        "    else:\n",
        "        print(year,\"is not a leap year.\")\n",
        "leap_year(2020)\n"
      ],
      "execution_count": 3,
      "outputs": [
        {
          "output_type": "stream",
          "text": [
            "2020 is a leap year.\n"
          ],
          "name": "stdout"
        }
      ]
    },
    {
      "cell_type": "markdown",
      "metadata": {
        "id": "FLiOmafP1mVt",
        "colab_type": "text"
      },
      "source": [
        "4.Write a program to print the Fibonacci series."
      ]
    },
    {
      "cell_type": "code",
      "metadata": {
        "id": "wuIZ9QrU1ptL",
        "colab_type": "code",
        "colab": {
          "base_uri": "https://localhost:8080/",
          "height": 51
        },
        "outputId": "c489c700-54f6-440e-86e1-893dcd3d19e7"
      },
      "source": [
        "def fibonacci(num):\n",
        "    first_term, second_term, count=0, 1, 0\n",
        "    print(\"Fibonacci Series upto\",num,\"terms is given by: \")\n",
        "    while count<num:\n",
        "        print(first_term, end=\" \")\n",
        "        next_term=first_term+second_term\n",
        "        first_term=second_term\n",
        "        second_term=next_term\n",
        "        count+=1\n",
        "fibonacci(9)"
      ],
      "execution_count": 4,
      "outputs": [
        {
          "output_type": "stream",
          "text": [
            "Fibonacci Series upto 9 terms is given by: \n",
            "0 1 1 2 3 5 8 13 21 "
          ],
          "name": "stdout"
        }
      ]
    },
    {
      "cell_type": "markdown",
      "metadata": {
        "id": "89dGV80r1yN_",
        "colab_type": "text"
      },
      "source": [
        "5. Check if a number is Armstrong number or not."
      ]
    },
    {
      "cell_type": "code",
      "metadata": {
        "id": "L0-8GdV21zAc",
        "colab_type": "code",
        "colab": {
          "base_uri": "https://localhost:8080/",
          "height": 34
        },
        "outputId": "1131fd7f-1177-4eac-d7bc-723cdbf4c907"
      },
      "source": [
        "def armstrong(num):\n",
        "    sum=0\n",
        "    temp=num\n",
        "    while temp!=0:\n",
        "        last_digit= temp%10\n",
        "        sum=sum+pow(last_digit,len(str(num)))\n",
        "        temp=temp//10\n",
        "    if num==sum:\n",
        "        print(num,\"is an Armstrong Number.\")\n",
        "    else:\n",
        "        print(num,\"is not an Armstrong Number.\")\n",
        "armstrong(1234)"
      ],
      "execution_count": 5,
      "outputs": [
        {
          "output_type": "stream",
          "text": [
            "1234 is not an Armstrong Number.\n"
          ],
          "name": "stdout"
        }
      ]
    },
    {
      "cell_type": "markdown",
      "metadata": {
        "id": "J1xnVuJF16Qa",
        "colab_type": "text"
      },
      "source": [
        "6.write a program to print all Armstrong Numbers in an interval."
      ]
    },
    {
      "cell_type": "code",
      "metadata": {
        "id": "zdiOMwFQ1_wg",
        "colab_type": "code",
        "colab": {
          "base_uri": "https://localhost:8080/",
          "height": 85
        },
        "outputId": "832d0628-b644-4db2-e099-b0c563a40562"
      },
      "source": [
        "start=int(input(\"Enter the starting index: \"))\n",
        "end=int(input(\"Enter the ending index: \"))\n",
        "if end>=1000:\n",
        "    print(\"Invalid ending index.\")\n",
        "else:\n",
        "    for num in range(start,end+1):\n",
        "        sum=0\n",
        "        temp=num\n",
        "        while temp>0:\n",
        "            rem=temp%10\n",
        "            sum+=rem**3\n",
        "            temp=temp//10\n",
        "        if num==sum:\n",
        "            print(num)"
      ],
      "execution_count": 7,
      "outputs": [
        {
          "output_type": "stream",
          "text": [
            "Enter the starting index: 0\n",
            "Enter the ending index: 99\n",
            "0\n",
            "1\n"
          ],
          "name": "stdout"
        }
      ]
    }
  ]
}